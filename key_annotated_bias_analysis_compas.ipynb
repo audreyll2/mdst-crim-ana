{
  "nbformat": 4,
  "nbformat_minor": 0,
  "metadata": {
    "colab": {
      "provenance": []
    },
    "kernelspec": {
      "name": "python3",
      "display_name": "Python 3"
    },
    "language_info": {
      "name": "python"
    }
  },
  "cells": [
    {
      "cell_type": "code",
      "execution_count": null,
      "metadata": {
        "id": "Br-ifwjOfAxq",
        "colab": {
          "base_uri": "https://localhost:8080/"
        },
        "outputId": "a51bac32-0f5d-4b30-921a-e9be23602c4d"
      },
      "outputs": [
        {
          "output_type": "stream",
          "name": "stdout",
          "text": [
            "Drive already mounted at /content/drive; to attempt to forcibly remount, call drive.mount(\"/content/drive\", force_remount=True).\n"
          ]
        }
      ],
      "source": [
        "import numpy as np\n",
        "import pandas as pd\n",
        "import seaborn as sns\n",
        "\n",
        "# from google.colab import drive\n",
        "\n",
        "# drive.mount('/content/drive')"
      ]
    },
    {
      "cell_type": "markdown",
      "source": [
        "# COMPAS Dataset Error Analysis and Bias in Predictive Models"
      ],
      "metadata": {
        "id": "PnwKgTwaBOxA"
      }
    },
    {
      "cell_type": "markdown",
      "source": [
        "##Exercise 1: Loading and Preprocessing (COMPAS Data)\n",
        "Load, clean, and preprocess the dataset to prepare it for subsequent analysis with a focus on error distribution."
      ],
      "metadata": {
        "id": "y9dcYlMgRHrj"
      }
    },
    {
      "cell_type": "markdown",
      "source": [
        "####Exercise 1.1:\n",
        "Load the COMPAS dataset ('compas-scores-two-years2.csv') using pandas.\n",
        "\n",
        "*   Attempt the following on ('compas-scores-two-years-violent.csv') after completing the non-violent dataset."
      ],
      "metadata": {
        "id": "6VSywdiU0UPb"
      }
    },
    {
      "cell_type": "code",
      "source": [
        "# Load dataset with read_csv\n",
        "df = pd.read_csv('/content/drive/MyDrive/compas-scores-two-years2.csv')"
      ],
      "metadata": {
        "id": "ymquTabO8r-K"
      },
      "execution_count": null,
      "outputs": []
    },
    {
      "cell_type": "markdown",
      "source": [
        "####Exercise 1.2:\n",
        "Print out the dimensions, column names, and datatypes of this dataset! Then print out the head to understand the dataset.\n",
        "\n",
        "\n",
        "*   Understanding the shape, columns, and types helps determine the size of the dataset and understand which fields are relevant for our analysis.\n",
        "*   This is crucial for identifying which columns might be useful in understanding bias.\n",
        "\n"
      ],
      "metadata": {
        "id": "zuvG240Z0plF"
      }
    },
    {
      "cell_type": "code",
      "source": [
        "# Explore the data structure\n",
        "print(df.shape)\n",
        "print(df.columns)\n",
        "print(df.dtypes)\n",
        "print(df.head())"
      ],
      "metadata": {
        "id": "IwBAPa1g0pL5",
        "colab": {
          "base_uri": "https://localhost:8080/"
        },
        "outputId": "6fddc39a-acd7-4fb2-c9ed-0f22cfb13c97"
      },
      "execution_count": null,
      "outputs": [
        {
          "output_type": "stream",
          "name": "stdout",
          "text": [
            "(7214, 25)\n",
            "Index(['id', 'name', 'compas_screening_date', 'sex', 'dob', 'age', 'race',\n",
            "       'juv_fel_count', 'decile_score', 'juv_misd_count', 'juv_other_count',\n",
            "       'priors_count', 'days_b_screening_arrest', 'c_jail_in', 'c_jail_out',\n",
            "       'c_case_number', 'c_offense_date', 'c_arrest_date',\n",
            "       'c_days_from_compas', 'c_charge_degree', 'c_charge_desc', 'is_recid',\n",
            "       'score_text', 'priors_count.1', 'two_year_recid'],\n",
            "      dtype='object')\n",
            "id                           int64\n",
            "name                        object\n",
            "compas_screening_date       object\n",
            "sex                         object\n",
            "dob                         object\n",
            "age                          int64\n",
            "race                        object\n",
            "juv_fel_count                int64\n",
            "decile_score                 int64\n",
            "juv_misd_count               int64\n",
            "juv_other_count              int64\n",
            "priors_count                 int64\n",
            "days_b_screening_arrest    float64\n",
            "c_jail_in                   object\n",
            "c_jail_out                  object\n",
            "c_case_number               object\n",
            "c_offense_date              object\n",
            "c_arrest_date               object\n",
            "c_days_from_compas         float64\n",
            "c_charge_degree             object\n",
            "c_charge_desc               object\n",
            "is_recid                     int64\n",
            "score_text                  object\n",
            "priors_count.1               int64\n",
            "two_year_recid               int64\n",
            "dtype: object\n",
            "   id                name compas_screening_date   sex        dob  age  \\\n",
            "0   1    miguel hernandez             8/14/2013  Male  4/18/1947   69   \n",
            "1   3         kevon dixon             1/27/2013  Male  1/22/1982   34   \n",
            "2   4            ed philo             4/14/2013  Male  5/14/1991   24   \n",
            "3   5         marcu brown             1/13/2013  Male  1/21/1993   23   \n",
            "4   6  bouthy pierrelouis             3/26/2013  Male  1/22/1973   43   \n",
            "\n",
            "               race  juv_fel_count  decile_score  juv_misd_count  ...  \\\n",
            "0             Other              0             1               0  ...   \n",
            "1  African-American              0             3               0  ...   \n",
            "2  African-American              0             4               0  ...   \n",
            "3  African-American              0             8               1  ...   \n",
            "4             Other              0             1               0  ...   \n",
            "\n",
            "   c_case_number  c_offense_date  c_arrest_date c_days_from_compas  \\\n",
            "0  13011352CF10A       8/13/2013            NaN                1.0   \n",
            "1  13001275CF10A       1/26/2013            NaN                1.0   \n",
            "2  13005330CF10A       4/13/2013            NaN                1.0   \n",
            "3  13000570CF10A       1/12/2013            NaN                1.0   \n",
            "4  12014130CF10A             NaN       1/9/2013               76.0   \n",
            "\n",
            "  c_charge_degree                   c_charge_desc is_recid score_text  \\\n",
            "0               F    Aggravated Assault w/Firearm        0        Low   \n",
            "1               F  Felony Battery w/Prior Convict        1        Low   \n",
            "2               F           Possession of Cocaine        1        Low   \n",
            "3               F          Possession of Cannabis        0       High   \n",
            "4               F           arrest case no charge        0        Low   \n",
            "\n",
            "   priors_count.1 two_year_recid  \n",
            "0               0              0  \n",
            "1               0              1  \n",
            "2               4              1  \n",
            "3               1              0  \n",
            "4               2              0  \n",
            "\n",
            "[5 rows x 25 columns]\n"
          ]
        }
      ]
    },
    {
      "cell_type": "markdown",
      "source": [
        "####Exercise 1.3a:\n",
        "Filter the data to remove irrelevant records:\n",
        "\n",
        "\n",
        "*   Remove rows with `days_b_screening_arrest` outside of the range (-30, 30)\n",
        "    *   The column `days_b_screening_arrest` represents the number of days between a person's arrest and when they were assessed by the COMPAS system.\n",
        "    *   The COMPAS assessment is only relevant if it is done within a certain time window of the arrest, ideally around the time of the offense\n",
        "    *   If the assessment is performed too long after (greater than 30 days) or before (-30 days) the actual arrest, it may not accurately reflect the current context of the offense, leading to unrealiable or incorrect risk scores.\n",
        "\n",
        "\n"
      ],
      "metadata": {
        "id": "AOLufAK60reC"
      }
    },
    {
      "cell_type": "code",
      "source": [
        "# Filter the data\n",
        "# The DataFrame is filtered to keep only those rows where the\n",
        "# days_b_screening_arrest value is between -30 and 30.\n",
        "# This condition selects only relevant records.\n",
        "df = df[(df['days_b_screening_arrest'] < 30) & (df['days_b_screening_arrest'] > -30)]\n",
        "print(df.head())"
      ],
      "metadata": {
        "id": "OGUqZC8h0xWN",
        "colab": {
          "base_uri": "https://localhost:8080/"
        },
        "outputId": "ce007422-a043-429e-8b61-aa0aeaaf3ecd"
      },
      "execution_count": null,
      "outputs": [
        {
          "output_type": "stream",
          "name": "stdout",
          "text": [
            "   id              name compas_screening_date   sex        dob  age  \\\n",
            "0   1  miguel hernandez             8/14/2013  Male  4/18/1947   69   \n",
            "1   3       kevon dixon             1/27/2013  Male  1/22/1982   34   \n",
            "2   4          ed philo             4/14/2013  Male  5/14/1991   24   \n",
            "5   7      marsha miles            11/30/2013  Male  8/22/1971   44   \n",
            "6   8     edward riddle             2/19/2014  Male  7/23/1974   41   \n",
            "\n",
            "               race  juv_fel_count  decile_score  juv_misd_count  ...  \\\n",
            "0             Other              0             1               0  ...   \n",
            "1  African-American              0             3               0  ...   \n",
            "2  African-American              0             4               0  ...   \n",
            "5             Other              0             1               0  ...   \n",
            "6         Caucasian              0             6               0  ...   \n",
            "\n",
            "   c_case_number  c_offense_date  c_arrest_date c_days_from_compas  \\\n",
            "0  13011352CF10A       8/13/2013            NaN                1.0   \n",
            "1  13001275CF10A       1/26/2013            NaN                1.0   \n",
            "2  13005330CF10A       4/13/2013            NaN                1.0   \n",
            "5  13022355MM10A      11/30/2013            NaN                0.0   \n",
            "6  14002304CF10A       2/18/2014            NaN                1.0   \n",
            "\n",
            "  c_charge_degree                   c_charge_desc is_recid score_text  \\\n",
            "0               F    Aggravated Assault w/Firearm        0        Low   \n",
            "1               F  Felony Battery w/Prior Convict        1        Low   \n",
            "2               F           Possession of Cocaine        1        Low   \n",
            "5               M                         Battery        0        Low   \n",
            "6               F       Possession Burglary Tools        1     Medium   \n",
            "\n",
            "   priors_count.1 two_year_recid  \n",
            "0               0              0  \n",
            "1               0              1  \n",
            "2               4              1  \n",
            "5               0              0  \n",
            "6              14              1  \n",
            "\n",
            "[5 rows x 25 columns]\n"
          ]
        }
      ]
    },
    {
      "cell_type": "markdown",
      "source": [
        "####Exercise 1.3b:\n",
        "Filter the data to remove irrelevant records:\n",
        "*   Drop the rows where `is_recid` equals -1.\n",
        "    *   The column `is_recid` is a flag indicating whether the individual reoffended (revidivated) within two years. A value of `-1` indicates that the data for this person is missing or oculd not be found by ProPublica (the source of the data).\n",
        "    *   Records with `is_recid = -1` mean that we do not know whether the individual reoffended or not. Using incomplete or missing information can lead to skewed results, and these cases add uncertainty to the analysis."
      ],
      "metadata": {
        "id": "pLLnVIPuECp8"
      }
    },
    {
      "cell_type": "code",
      "source": [
        "# Filter the data\n",
        "# Rows with is_recid equal to -1 (which indicates missing data) are removed.\n",
        "# Selects only the valid rows.\n",
        "df = df[df['is_recid'] != -1]\n",
        "print(df.head())"
      ],
      "metadata": {
        "colab": {
          "base_uri": "https://localhost:8080/"
        },
        "id": "dXELDUzUES1s",
        "outputId": "058ee5cc-edaf-44e6-82b1-5451209f5a80"
      },
      "execution_count": null,
      "outputs": [
        {
          "output_type": "stream",
          "name": "stdout",
          "text": [
            "   id              name compas_screening_date   sex        dob  age  \\\n",
            "0   1  miguel hernandez             8/14/2013  Male  4/18/1947   69   \n",
            "1   3       kevon dixon             1/27/2013  Male  1/22/1982   34   \n",
            "2   4          ed philo             4/14/2013  Male  5/14/1991   24   \n",
            "5   7      marsha miles            11/30/2013  Male  8/22/1971   44   \n",
            "6   8     edward riddle             2/19/2014  Male  7/23/1974   41   \n",
            "\n",
            "               race  juv_fel_count  decile_score  juv_misd_count  ...  \\\n",
            "0             Other              0             1               0  ...   \n",
            "1  African-American              0             3               0  ...   \n",
            "2  African-American              0             4               0  ...   \n",
            "5             Other              0             1               0  ...   \n",
            "6         Caucasian              0             6               0  ...   \n",
            "\n",
            "   c_case_number  c_offense_date  c_arrest_date c_days_from_compas  \\\n",
            "0  13011352CF10A       8/13/2013            NaN                1.0   \n",
            "1  13001275CF10A       1/26/2013            NaN                1.0   \n",
            "2  13005330CF10A       4/13/2013            NaN                1.0   \n",
            "5  13022355MM10A      11/30/2013            NaN                0.0   \n",
            "6  14002304CF10A       2/18/2014            NaN                1.0   \n",
            "\n",
            "  c_charge_degree                   c_charge_desc is_recid score_text  \\\n",
            "0               F    Aggravated Assault w/Firearm        0        Low   \n",
            "1               F  Felony Battery w/Prior Convict        1        Low   \n",
            "2               F           Possession of Cocaine        1        Low   \n",
            "5               M                         Battery        0        Low   \n",
            "6               F       Possession Burglary Tools        1     Medium   \n",
            "\n",
            "   priors_count.1 two_year_recid  \n",
            "0               0              0  \n",
            "1               0              1  \n",
            "2               4              1  \n",
            "5               0              0  \n",
            "6              14              1  \n",
            "\n",
            "[5 rows x 25 columns]\n"
          ]
        }
      ]
    },
    {
      "cell_type": "markdown",
      "source": [
        "####Exercise 1.3c:\n",
        "Filter the data to remove irrelevant records:\n",
        "*   Remove rows where `c_charge_degree` is 'O' (ordinary traffic).\n",
        "    * The `c_charge_degree` column indicates the severity of the charge. It contains values like 'F' (Felony), 'M' (Misdemeanor), and 'O' (Ordinary traffic offenses).\n",
        "    * **Ordinary traffic offenses** do not usually result in jail time and are less likely to lead to reoffending that would justify the use of a complex risk assessment model like COMPAS."
      ],
      "metadata": {
        "id": "9FawqeqrETKe"
      }
    },
    {
      "cell_type": "code",
      "source": [
        "# Filter the data\n",
        "# Rows where the charge degree is 'O' (ordinary traffic offenses) are removed.\n",
        "# Excludes less severe offenses that are not relevant to the analysis.\n",
        "df = df[df['c_charge_degree'] != 'O']\n",
        "print(df.head())"
      ],
      "metadata": {
        "colab": {
          "base_uri": "https://localhost:8080/"
        },
        "id": "sjLvFZBwE64L",
        "outputId": "7c36c2d2-c4d3-4259-c26c-a31bd3c25c8c"
      },
      "execution_count": null,
      "outputs": [
        {
          "output_type": "stream",
          "name": "stdout",
          "text": [
            "   id              name compas_screening_date   sex        dob  age  \\\n",
            "0   1  miguel hernandez             8/14/2013  Male  4/18/1947   69   \n",
            "1   3       kevon dixon             1/27/2013  Male  1/22/1982   34   \n",
            "2   4          ed philo             4/14/2013  Male  5/14/1991   24   \n",
            "5   7      marsha miles            11/30/2013  Male  8/22/1971   44   \n",
            "6   8     edward riddle             2/19/2014  Male  7/23/1974   41   \n",
            "\n",
            "               race  juv_fel_count  decile_score  juv_misd_count  ...  \\\n",
            "0             Other              0             1               0  ...   \n",
            "1  African-American              0             3               0  ...   \n",
            "2  African-American              0             4               0  ...   \n",
            "5             Other              0             1               0  ...   \n",
            "6         Caucasian              0             6               0  ...   \n",
            "\n",
            "   c_case_number  c_offense_date  c_arrest_date c_days_from_compas  \\\n",
            "0  13011352CF10A       8/13/2013            NaN                1.0   \n",
            "1  13001275CF10A       1/26/2013            NaN                1.0   \n",
            "2  13005330CF10A       4/13/2013            NaN                1.0   \n",
            "5  13022355MM10A      11/30/2013            NaN                0.0   \n",
            "6  14002304CF10A       2/18/2014            NaN                1.0   \n",
            "\n",
            "  c_charge_degree                   c_charge_desc is_recid score_text  \\\n",
            "0               F    Aggravated Assault w/Firearm        0        Low   \n",
            "1               F  Felony Battery w/Prior Convict        1        Low   \n",
            "2               F           Possession of Cocaine        1        Low   \n",
            "5               M                         Battery        0        Low   \n",
            "6               F       Possession Burglary Tools        1     Medium   \n",
            "\n",
            "   priors_count.1 two_year_recid  \n",
            "0               0              0  \n",
            "1               0              1  \n",
            "2               4              1  \n",
            "5               0              0  \n",
            "6              14              1  \n",
            "\n",
            "[5 rows x 25 columns]\n"
          ]
        }
      ]
    },
    {
      "cell_type": "markdown",
      "source": [
        "####Exercise 1.4\n",
        "Handle missing values\n",
        "\n",
        "\n",
        "*   Drop rows that contain missing values (NA)\n",
        "\n"
      ],
      "metadata": {
        "id": "LAQjsH_q20uH"
      }
    },
    {
      "cell_type": "code",
      "source": [
        "# Drop rows with missing values\n",
        "df = df.dropna()\n",
        "print(df.head())"
      ],
      "metadata": {
        "id": "PmwAcgd227u6"
      },
      "execution_count": null,
      "outputs": []
    },
    {
      "cell_type": "markdown",
      "source": [
        "####Exercise 1.5:\n",
        "Transform the risk score column into a new, simplified format. Create a new column that categorizes the risk score into binary outcomes: 'Low': 0, 'Medium': 1, 'High': 1\n",
        "*   Transforming the `score_text` into a binary value allows us to perform more straightforward predictive analysis and assess whether the model is properly identifying high-risk individuals\n",
        "*   Hint: create a column called 'score_binary', .replace() function replaces specific values in the DataFrame with new values"
      ],
      "metadata": {
        "id": "hOFbmE-Y3Kxz"
      }
    },
    {
      "cell_type": "code",
      "source": [
        "# Create a binary column for the risk score\n",
        "# The risk scores (e.g., 'Low', 'Medium', 'High') are converted into a binary\n",
        "# format where 'Low' becomes 0 and both 'Medium' and 'High' become 1.\n",
        "\n",
        "# The result is stored in a new column named score_binary.\n",
        "df['score_binary'] = df['score_text'].replace({'Low': 0, 'Medium': 1, 'High': 1})\n",
        "print(df.head())"
      ],
      "metadata": {
        "id": "3Z-zP8gF4A3U",
        "colab": {
          "base_uri": "https://localhost:8080/"
        },
        "outputId": "e7390b1b-dc27-4899-d435-8c8382fe21c6"
      },
      "execution_count": null,
      "outputs": [
        {
          "output_type": "stream",
          "name": "stdout",
          "text": [
            "   id              name compas_screening_date   sex        dob  age  \\\n",
            "0   1  miguel hernandez             8/14/2013  Male  4/18/1947   69   \n",
            "1   3       kevon dixon             1/27/2013  Male  1/22/1982   34   \n",
            "2   4          ed philo             4/14/2013  Male  5/14/1991   24   \n",
            "5   7      marsha miles            11/30/2013  Male  8/22/1971   44   \n",
            "6   8     edward riddle             2/19/2014  Male  7/23/1974   41   \n",
            "\n",
            "               race  juv_fel_count  decile_score  juv_misd_count  ...  \\\n",
            "0             Other              0             1               0  ...   \n",
            "1  African-American              0             3               0  ...   \n",
            "2  African-American              0             4               0  ...   \n",
            "5             Other              0             1               0  ...   \n",
            "6         Caucasian              0             6               0  ...   \n",
            "\n",
            "   c_offense_date  c_arrest_date  c_days_from_compas c_charge_degree  \\\n",
            "0       8/13/2013            NaN                 1.0               F   \n",
            "1       1/26/2013            NaN                 1.0               F   \n",
            "2       4/13/2013            NaN                 1.0               F   \n",
            "5      11/30/2013            NaN                 0.0               M   \n",
            "6       2/18/2014            NaN                 1.0               F   \n",
            "\n",
            "                    c_charge_desc is_recid score_text priors_count.1  \\\n",
            "0    Aggravated Assault w/Firearm        0        Low              0   \n",
            "1  Felony Battery w/Prior Convict        1        Low              0   \n",
            "2           Possession of Cocaine        1        Low              4   \n",
            "5                         Battery        0        Low              0   \n",
            "6       Possession Burglary Tools        1     Medium             14   \n",
            "\n",
            "   two_year_recid score_binary  \n",
            "0               0            0  \n",
            "1               1            0  \n",
            "2               1            0  \n",
            "5               0            0  \n",
            "6               1            1  \n",
            "\n",
            "[5 rows x 26 columns]\n"
          ]
        },
        {
          "output_type": "stream",
          "name": "stderr",
          "text": [
            "<ipython-input-10-1b1512de44eb>:2: FutureWarning: Downcasting behavior in `replace` is deprecated and will be removed in a future version. To retain the old behavior, explicitly call `result.infer_objects(copy=False)`. To opt-in to the future behavior, set `pd.set_option('future.no_silent_downcasting', True)`\n",
            "  df['score_binary'] = df['score_text'].replace({'Low': 0, 'Medium': 1, 'High': 1})\n"
          ]
        }
      ]
    },
    {
      "cell_type": "markdown",
      "source": [
        "##Exercise 2: Confusion Matrix, Contingency Table, and Performance Metrics\n",
        "Use COMPAS predictions to create a confusion matrix. Calculate accuracy, precision, recall, specificity, and F1 score using actual vs predicted calues."
      ],
      "metadata": {
        "id": "_4m2f3NYFiD9"
      }
    },
    {
      "cell_type": "markdown",
      "source": [
        "####Exercise 2.1:\n",
        "Create a Confusion Matrix. Import the `confusion_matrix` function from the `sklearn.metrics` module.\n",
        "*   Then extract the actual labels (`y_actual`) and the predicted labels (`y_pred`) from your DataFrame.\n",
        "    * `y_actual`: This should be the actual outcome, which tells if a person actually recidivated (`two_year_recid` column).\n",
        "    * `y_pred`: This should be the predicted outcome from the model (`score_binary` column)."
      ],
      "metadata": {
        "id": "kgt8y2lfUup0"
      }
    },
    {
      "cell_type": "code",
      "source": [
        "# Import here\n",
        "from sklearn.metrics import confusion_matrix\n",
        "\n",
        "# Define actual and predicted values\n",
        "# y_actual contains the true recidivism outcomes (from the two_year_recid column),\n",
        "# and y_pred contains the predicted outcomes (from the score_binary column).\n",
        "y_actual = df['two_year_recid']\n",
        "y_pred = df['score_binary']\n",
        "\n",
        "# Create a confusion matrix using the function you've imported\n",
        "# This function from scikit-learn computes the confusion matrix,\n",
        "# which summarizes correct and incorrect predictions.\n",
        "cm = confusion_matrix(y_actual, y_pred)\n",
        "print(\"Confusion Matrix:\\n\", cm)\n",
        "# print(y_actual.head())  # Print the first few rows of y_actual\n",
        "# print(y_pred.head())    # Print the first few rows of y_pred\n"
      ],
      "metadata": {
        "colab": {
          "base_uri": "https://localhost:8080/"
        },
        "id": "yf0MTOJIWt4a",
        "outputId": "d804e3b5-7a67-45c7-a72e-97e9ce4d4324"
      },
      "execution_count": null,
      "outputs": [
        {
          "output_type": "stream",
          "name": "stdout",
          "text": [
            "Confusion Matrix:\n",
            " [[2340 1016]\n",
            " [1074 1729]]\n"
          ]
        }
      ]
    },
    {
      "cell_type": "markdown",
      "source": [
        "##Exercise 2.2:\n",
        "Define a Contingency Table\n",
        "*   Extract values for True Negatives (`TN`), False Positives (`FP`), False Negatives (`FN`), and True Positives (`TP`) from the confusion matrix. Use these values to create a contingency table for easier analysis.\n",
        "\n",
        "The contingency table provides a detailed breakdown of the model's prediction quality:\n",
        "\n",
        "- True Negatives (`TN`): Correctly predicted non-recidivists.\n",
        "- False Positives (`FP`): Incorrectly predicted as high-risk (non-recidivists labeled as recidivists).\n",
        "- False Negatives (`FN`): Incorrectly predicted as low-risk (recidivists labeled as non-recidivists).\n",
        "- True Positives (`TP`): Correctly predicted recidivists."
      ],
      "metadata": {
        "id": "y9V8mcLWYewJ"
      }
    },
    {
      "cell_type": "code",
      "source": [
        "# Extract and create contingency table values\n",
        "# The confusion matrix is originally a 2x2 array, with the following structure:\n",
        "# [[True Negative (TN), False Positive (FP)],\n",
        "#  [False Negative (FN), True Positive (TP)]]\n",
        "# .ravel() makes it easier to extract these four values (left to right) at once.\n",
        "\n",
        "tn, fp, fn, tp = cm.ravel()\n",
        "# ^^ Flattens the 2x2 confusion matrix into four separate variables representing\n",
        "# True Negatives, False Positives, False Negatives, and True Positives.\n",
        "\n",
        "# Create a contingency table for easier analysis.\n",
        "# This table helps us understand the types of correct and incorrect predictions made by the model.\n",
        "# A new DataFrame is created to neatly display these values, which is useful for further analysis.\n",
        "contingency_table = pd.DataFrame({'True Negative': [tn], 'False Positive': [fp], 'False Negative': [fn], 'True Positive': [tp]})\n",
        "print(\"Contingency Table:\\n\", contingency_table)"
      ],
      "metadata": {
        "colab": {
          "base_uri": "https://localhost:8080/"
        },
        "id": "Cg09rW04YtC0",
        "outputId": "634187bf-e90f-4ef5-d553-b30b1f2a08c4"
      },
      "execution_count": null,
      "outputs": [
        {
          "output_type": "stream",
          "name": "stdout",
          "text": [
            "Contingency Table:\n",
            "    True Negative  False Positive  False Negative  True Positive\n",
            "0           2340            1016            1074           1729\n"
          ]
        }
      ]
    },
    {
      "cell_type": "markdown",
      "source": [
        "####Exercise 2.3:\n",
        "Calculate Performance Metrics. Import functions to calculate accuracy, precision, recall, and F1 score from scikit-learn.\n",
        "*   Calculate the **accuracy** of the model by comparing `y_actual` and `y_pred`.\n",
        "    * Accuracy gives a general overview of the model's performance, indicating how often it correctly predicted recidivism versus non-recidivism.\n",
        "*   Calculate the **precision** and recall to understand the quality of the model’s positive predictions.\n",
        "    * Precision is critical when we want to minimize false positives, for example, when misclassifying someone as high-risk unjustly (which could lead to harsher treatment).\n",
        "    * Recall is important when we want to ensure we identify as many actual positives as possible, such as correctly identifying individuals who are likely to reoffend.\n",
        "* Use the values from the confusion matrix to calculate **specificity** (`True Negative`/(`True Negative` + `False Positive`).\n",
        "    * Specificity tells us how well the model identifies actual non-recidivists, minimizing the risk of wrongly labeling people as high-risk when they are not.\n",
        "* Calculate the **F1 score** for a balanced measure of the model’s performance.\n",
        "    * The F1 score is useful when the balance between precision and recall is crucial. For instance, if false positives and false negatives have serious real-world consequences, this metric helps to assess overall balance."
      ],
      "metadata": {
        "id": "pvxgqkp5ZACl"
      }
    },
    {
      "cell_type": "code",
      "source": [
        "# Import functions here\n",
        "from sklearn.metrics import accuracy_score, precision_score, recall_score, f1_score\n",
        "\n",
        "# Calculate accuracy with the function you imported\n",
        "accuracy = accuracy_score(y_actual, y_pred)\n",
        "print(f'Accuracy: {accuracy:.2f}')\n",
        "\n",
        "# Calculate precision, recall\n",
        "precision = precision_score(y_actual, y_pred)\n",
        "recall = recall_score(y_actual, y_pred)\n",
        "\n",
        "print(f'Precision: {precision:.2f}')\n",
        "print(f'Recall: {recall:.2f}')\n",
        "\n",
        "# Calculate specificity\n",
        "specificity = tn / (tn + fp)\n",
        "print(f'Specificity: {specificity:.2f}')\n",
        "\n",
        "# Calculate F1 Score\n",
        "f1 = f1_score(y_actual, y_pred)\n",
        "print(f'F1 Score: {f1:.2f}')\n",
        "\n",
        "# These metrics are computed using scikit-learn’s built-in functions.\n",
        "# They measure various aspects of the model's performance.\n",
        "\n",
        "# Practice calculating these manually using the formulas found in the slides!"
      ],
      "metadata": {
        "colab": {
          "base_uri": "https://localhost:8080/"
        },
        "id": "9a0IHgTCZPUe",
        "outputId": "019de061-7c21-4b7b-a3e1-28422bc3e772"
      },
      "execution_count": null,
      "outputs": [
        {
          "output_type": "stream",
          "name": "stdout",
          "text": [
            "Accuracy: 0.66\n",
            "Precision: 0.63\n",
            "Recall: 0.62\n",
            "Specificity: 0.70\n",
            "F1 Score: 0.62\n"
          ]
        }
      ]
    },
    {
      "cell_type": "markdown",
      "source": [
        "##Exercise 3: Error Distribution Analysis Across Demographics\n",
        "Compare the rates of False Positives and False Negatives between demographic groups (e.g., race and gender). Plot these differences using histograms or bar charts with Seaborn."
      ],
      "metadata": {
        "id": "2KmhaOtUSgvF"
      }
    },
    {
      "cell_type": "markdown",
      "source": [
        "####Exercise 3.1:\n",
        "Create new columns in your DataFrame to identify False Positives and False Negatives.\n",
        "*   **False Positive (FP)**: When the model predicts someone will reoffend (high-risk), but they do not actually reoffend.\n",
        "*   **False Negative (FN)**: When the model predicts someone will not reoffend (low-risk), but they do actually reoffend."
      ],
      "metadata": {
        "id": "qAk5hvHcdZEG"
      }
    },
    {
      "cell_type": "code",
      "source": [
        "# Add columns to identify False Positives and False Negatives\n",
        "# Boolean conditions are used to flag false positives\n",
        " # (predicted high-risk but did not reoffend) and\n",
        " # false negatives (predicted low-risk but did reoffend).\n",
        "df['false_positive'] = ((y_pred == 1) & (y_actual == 0)).astype(int)\n",
        "df['false_negative'] = ((y_pred == 0) & (y_actual == 1)).astype(int)\n",
        "\n",
        "# .astype(int) Converts the boolean result to integers (0 or 1) for aggregation."
      ],
      "metadata": {
        "id": "vfa574k7dYW5"
      },
      "execution_count": null,
      "outputs": []
    },
    {
      "cell_type": "markdown",
      "source": [
        "####Exercise 3.2:\n",
        "Use the newly created `'false_positive'` and `'false_negative'` columns to calculate the average rates for each demographic group.\n",
        "*   Group the data by `'race'` and calculate the mean of `'false_positive'` and `'false_negative'`."
      ],
      "metadata": {
        "id": "dgmGnaKmdnLV"
      }
    },
    {
      "cell_type": "code",
      "source": [
        "# Calculate false positive and false negative rates by race\n",
        "# The DataFrame is grouped by the race column.\n",
        "fp_rates = df.groupby('race')['false_positive'].mean()\n",
        "fn_rates = df.groupby('race')['false_negative'].mean()\n",
        "# Taking the mean of the error indicator columns gives the proportion\n",
        "# (rate) of false positives and false negatives for each racial group.\n",
        "\n",
        "# Print the rates to understand the differences\n",
        "print(\"False Positive Rates by Race:\\n\", fp_rates)\n",
        "print(\"False Negative Rates by Race:\\n\", fn_rates)"
      ],
      "metadata": {
        "colab": {
          "base_uri": "https://localhost:8080/"
        },
        "id": "IeKq2yEcd0Al",
        "outputId": "e5d51fa7-69bf-4bbc-8ba2-0093ed7ebffd"
      },
      "execution_count": null,
      "outputs": [
        {
          "output_type": "stream",
          "name": "stdout",
          "text": [
            "False Positive Rates by Race:\n",
            " race\n",
            "African-American    0.202081\n",
            "Asian               0.064516\n",
            "Caucasian           0.133652\n",
            "Hispanic            0.122047\n",
            "Native American     0.272727\n",
            "Other               0.081871\n",
            "Name: false_positive, dtype: float64\n",
            "False Negative Rates by Race:\n",
            " race\n",
            "African-American    0.149117\n",
            "Asian               0.096774\n",
            "Caucasian           0.194749\n",
            "Hispanic            0.214567\n",
            "Native American     0.000000\n",
            "Other               0.236842\n",
            "Name: false_negative, dtype: float64\n"
          ]
        }
      ]
    },
    {
      "cell_type": "markdown",
      "source": [
        "####Exercise 3.3:\n",
        "Use Seaborn's barplot to create a bar chart of the false positive rates by race.\n"
      ],
      "metadata": {
        "id": "H84VRHDjeDpe"
      }
    },
    {
      "cell_type": "code",
      "source": [
        "# Plot FP rates by race using Seaborn\n",
        "# Hint: (x: index, y: values)\n",
        "sns.set(rc={\"figure.figsize\": (10, 5)})  # Set figure size directly in Seaborn\n",
        "sns.barplot(x=fp_rates.index, y=fp_rates.values)\n",
        "sns.set_style(\"whitegrid\")  # Optional: Set the style for better readability\n",
        "# These functions adjust the plot’s size and style for clarity.\n",
        "\n",
        "# Creates a bar chart where the x-axis shows the\n",
        "# racial groups and the y-axis shows the false positive rates."
      ],
      "metadata": {
        "colab": {
          "base_uri": "https://localhost:8080/",
          "height": 473
        },
        "id": "Q-1p671_eq-Q",
        "outputId": "fa863d16-7333-4aad-db8f-4b324bca43c2"
      },
      "execution_count": null,
      "outputs": [
        {
          "output_type": "display_data",
          "data": {
            "text/plain": [
              "<Figure size 1000x500 with 1 Axes>"
            ],
            "image/png": "[encoded data removed]"
          },
          "metadata": {}
        }
      ]
    },
    {
      "cell_type": "markdown",
      "source": [
        "####Exercise 3.4:\n",
        "Create a bar chart using Seaborn to visualize false negative rates by race, similar to how false positive rates were plotted."
      ],
      "metadata": {
        "id": "vJ8OmUVTfDWz"
      }
    },
    {
      "cell_type": "code",
      "source": [
        "# Plot FN rates by race using Seaborn\n",
        "# Hint: (x: index, y: values)\n",
        "sns.set(rc={\"figure.figsize\": (10, 5)})  # Set figure size directly in Seaborn\n",
        "sns.barplot(x=fn_rates.index, y=fn_rates.values)\n",
        "sns.set_style(\"whitegrid\")  # Optional: Set the style for better readability\n",
        "\n",
        "# This cell creates a bar plot for false negative rates across racial groups.\n",
        "# It highlights whether certain groups are being under-classified as low-risk when they are actually high-risk."
      ],
      "metadata": {
        "colab": {
          "base_uri": "https://localhost:8080/",
          "height": 473
        },
        "id": "S9Vv_LJ3fJ2k",
        "outputId": "11d2fde8-ef0f-44bd-aa37-bb594ac0d4a5"
      },
      "execution_count": null,
      "outputs": [
        {
          "output_type": "display_data",
          "data": {
            "text/plain": [
              "<Figure size 1000x500 with 1 Axes>"
            ],
            "image/png": "[encoded data removed]"
          },
          "metadata": {}
        }
      ]
    },
    {
      "cell_type": "markdown",
      "source": [
        "##Exercise 4: Bayes' Rule in Practice\n",
        "Calculate the posterior probability that an individual is a recidivist given a COMPAS high-risk score. Consider different scenarios where priors (such as prevalence of recidivism) vary."
      ],
      "metadata": {
        "id": "FpCy6_R3S00f"
      }
    },
    {
      "cell_type": "markdown",
      "source": [
        "####Exercise 4.1: Understand and Calculate the Prevalence of Recidivism (P(A))\n",
        "Start by calculating the prevalence of recidivism in the dataset. This is the proportion of individuals who actually reoffended within two years, denoted by **P(A)**\n",
        "*   **Prevalence** represents the **prior probability** that an individual will reoffend without considering their COMPAS score"
      ],
      "metadata": {
        "id": "09zrBkT8RQB6"
      }
    },
    {
      "cell_type": "code",
      "source": [
        "# Calculate the prevalence of recidivism (P(A))\n",
        "# The mean of the two_year_recid column gives the overall proportion\n",
        "# of individuals who reoffended (i.e., the prevalence).\n",
        "# This value represents the prior probability of recidivism before considering the COMPAS risk score.\n",
        "prevalence = df['two_year_recid'].mean()\n",
        "print(f\"Prevalence (P(A)) of Recidivism: {prevalence:.2f}\")"
      ],
      "metadata": {
        "colab": {
          "base_uri": "https://localhost:8080/"
        },
        "id": "RUSQFMYqR0La",
        "outputId": "11587b32-a17a-49d0-a963-c2fadef7271d"
      },
      "execution_count": null,
      "outputs": [
        {
          "output_type": "stream",
          "name": "stdout",
          "text": [
            "Prevalence (P(A)) of Recidivism: 0.46\n"
          ]
        }
      ]
    },
    {
      "cell_type": "markdown",
      "source": [
        "####Exercise 4.2: Calculate the Probability of Receiving a High-Risk Score Given Recidivism (P(B|A))\n",
        "Calculate the conditional probability than an individual received a high-risk score given that they reoffended. This is denoted as **P(B|A)**.\n",
        "*   Filter the dataset to only include rows where the individual reoffended (`two_year_recid` equals 1), and then calculate the proportion of those who were labeled as high-risk (`score_binary` equals 1)."
      ],
      "metadata": {
        "id": "TeIVP2scSIT9"
      }
    },
    {
      "cell_type": "code",
      "source": [
        "# Calculate the probability of a high-risk score given recidivism (P(B|A))\n",
        "# The mean of score_binary in this subset gives P(B|A), the probability that someone who reoffended was given a high-risk score.\n",
        "p_high_given_recid = df[df['two_year_recid'] == 1]['score_binary'].mean()\n",
        "print(f\"Probability of High-Risk Score given Recidivism (P(B|A)): {p_high_given_recid:.2f}\")"
      ],
      "metadata": {
        "colab": {
          "base_uri": "https://localhost:8080/"
        },
        "id": "s4c6QsgDSp4u",
        "outputId": "6a077f35-891e-437e-9f0d-4987b6671c28"
      },
      "execution_count": null,
      "outputs": [
        {
          "output_type": "stream",
          "name": "stdout",
          "text": [
            "Probability of High-Risk Score given Recidivism (P(B|A)): 0.62\n"
          ]
        }
      ]
    },
    {
      "cell_type": "markdown",
      "source": [
        "####Exercise 4.3: Calculate the Probability of Receiving a High-Risk Score (P(B))\n",
        "Calculate the probability that an individual receives a high-risk score in general, regardless of whether they reoffended. This is denotes as **P(B)**\n",
        "*   This represents how often the model classifies individuals as high-risk acorss the whole dataset."
      ],
      "metadata": {
        "id": "qC_OiRUlSsL9"
      }
    },
    {
      "cell_type": "code",
      "source": [
        "# Calculate the probability of receiving a high-risk score (P(B))\n",
        "# The mean of the score_binary column over the entire dataset gives P(B), the overall probability of a high-risk prediction.\n",
        "p_high = df['score_binary'].mean()\n",
        "print(f\"Probability of Receiving High-Risk Score (P(B)): {p_high:.2f}\")"
      ],
      "metadata": {
        "colab": {
          "base_uri": "https://localhost:8080/"
        },
        "id": "EtERDNo8VtI1",
        "outputId": "e92276e4-4fc1-44d4-89db-d4b40734ca58"
      },
      "execution_count": null,
      "outputs": [
        {
          "output_type": "stream",
          "name": "stdout",
          "text": [
            "Probability of Receiving High-Risk Score (P(B)): 0.45\n"
          ]
        }
      ]
    },
    {
      "cell_type": "markdown",
      "source": [
        "####Exercise 4.4: Calculate the Posterior Probability (P(A|B)) Instruction\n",
        "Use Bayes' Rule to calculate the posterior probability that an individual actually reoffended given that they received a high-risk score. This is denoted as **P(A|B)**\n",
        "\n",
        "Apply Bayes' Rule: $P(A|B) = \\frac{P(B|A)\\cdot P(A)}{P(B)}$"
      ],
      "metadata": {
        "id": "RKw5c2y5Vxk9"
      }
    },
    {
      "cell_type": "code",
      "source": [
        "# Calculate the posterior probability using Bayes' Rule (P(A|B))\n",
        "# Baye's Rule formula is used to update the probability of recidivism (A) given a high-risk score (B).\n",
        "# The result gives the probability that an individual reoffended, given that they were labeled high-risk by COMPAS.\n",
        "posterior = (p_high_given_recid * prevalence) / p_high\n",
        "print(f'Posterior Probability of Recidivism given High-Risk Score (P(A|B)): {posterior:.2f}')"
      ],
      "metadata": {
        "colab": {
          "base_uri": "https://localhost:8080/"
        },
        "id": "WWJ_NGI-q5vv",
        "outputId": "f871e601-4232-45e3-ecb5-43538f41d0fa"
      },
      "execution_count": null,
      "outputs": [
        {
          "output_type": "stream",
          "name": "stdout",
          "text": [
            "Posterior Probability of Recidivism given High-Risk Score (P(A|B)): 0.63\n"
          ]
        }
      ]
    },
    {
      "cell_type": "markdown",
      "source": [
        "##Exercise 5: Fairness Analysis\n",
        "Create fairness metrics based on demographic parity or equal opportunity. Determine if the model's predictions meet fairness criteria across racial groups."
      ],
      "metadata": {
        "id": "P2nN55XrUA_I"
      }
    },
    {
      "cell_type": "markdown",
      "source": [
        "####Exercise 5.1:\n",
        "Group the dataset by race to calculate the proportion of individuals who received a high-risk score within each racial group.\n",
        "*   Calculate the positive prediction rate for each group to assess if each demographic is equally likely to be labeled as high risk."
      ],
      "metadata": {
        "id": "OHosKa_-rmO9"
      }
    },
    {
      "cell_type": "code",
      "source": [
        "# Calculate the rate of positive predictions by race\n",
        "# Hint: calculating the mean gives you the proportion of individuals in each group(by) who were labeled as high-risk\n",
        "# (score_binary equal to 1)\n",
        "positive_rate = df.groupby('race')['score_binary'].mean()\n",
        "print(\"Positive Prediction Rate by Race:\\n\", positive_rate)"
      ],
      "metadata": {
        "colab": {
          "base_uri": "https://localhost:8080/"
        },
        "id": "gdpQaReKryzW",
        "outputId": "a33e2614-d3c7-416c-a3b2-c3920176f209"
      },
      "execution_count": null,
      "outputs": [
        {
          "output_type": "stream",
          "name": "stdout",
          "text": [
            "Positive Prediction Rate by Race:\n",
            " race\n",
            "African-American    0.575662\n",
            "Asian               0.225806\n",
            "Caucasian           0.330788\n",
            "Hispanic            0.277559\n",
            "Native American     0.727273\n",
            "Other               0.204678\n",
            "Name: score_binary, dtype: float64\n"
          ]
        }
      ]
    },
    {
      "cell_type": "markdown",
      "source": [
        "####Exercise 5.2:\n",
        "Use Seaborn to create a bar chart that visualizes the positive prediction rates for each racial group."
      ],
      "metadata": {
        "id": "4s3mMLx0sFH9"
      }
    },
    {
      "cell_type": "code",
      "source": [
        "# Visualize positive prediction rates by race using Seaborn\n",
        "sns.set(rc={\"figure.figsize\": (10, 5)})  # Set the figure size\n",
        "sns.barplot(x=positive_rate.index, y=positive_rate.values)\n",
        "sns.set_style(\"whitegrid\")  # Optional: Set the plot style"
      ],
      "metadata": {
        "colab": {
          "base_uri": "https://localhost:8080/",
          "height": 473
        },
        "id": "t-EiIx_ZsN_Q",
        "outputId": "fd08506d-03af-4d95-faa8-16ecabc8730c"
      },
      "execution_count": null,
      "outputs": [
        {
          "output_type": "display_data",
          "data": {
            "text/plain": [
              "<Figure size 1000x500 with 1 Axes>"
            ],
            "image/png": "[encoded data removed]"
          },
          "metadata": {}
        }
      ]
    },
    {
      "cell_type": "markdown",
      "source": [
        "####Exercise 5.3:\n",
        "To evaluate equal opportunity, calculate the True Positive Rate (TPR) for each racial group.\n",
        "*   First, add columns to the dataset that indicate True Positives (where the model correctly predicts recidivism).\n",
        "*   Then group by race to calculate the TPR for each group."
      ],
      "metadata": {
        "id": "qMwfTuxVsP1q"
      }
    },
    {
      "cell_type": "code",
      "source": [
        "# Hint: TPR formula is TP / (TP + FN), where:\n",
        "# TP (True Positive): Correctly predicted that an individual will reoffend.\n",
        "# FN (False Negative): Missed prediction—did not predict reoffend but the individual did reoffend.\n",
        "\n",
        "# Use .agg() to aggregate values across groups and calculate the necessary sums for each demographic.\n",
        "\n",
        "# Step 1: Add a column for True Positives: actual = 1 and predicted = 1\n",
        "df['true_positive'] = ((y_actual == 1) & (y_pred == 1)).astype(int)\n",
        "\n",
        "# Step 2: Add a column for False Negatives: actual = 1 and predicted = 0\n",
        "df['false_negative'] = ((y_actual == 1) & (y_pred == 0)).astype(int)\n",
        "\n",
        "# Step 3: Group by race and calculate the sum of True Positives and False Negatives for each group\n",
        "grouped = df.groupby('race').agg({'true_positive': 'sum', 'false_negative': 'sum'})\n",
        "\n",
        "# Step 4: Calculate TPR for each race: TPR = TP / (TP + FN)\n",
        "grouped['TPR'] = grouped['true_positive'] / (grouped['true_positive'] + grouped['false_negative'])\n",
        "\n",
        "# Print the True Positive Rate for each race\n",
        "print(\"True Positive Rate (TPR) by Race:\\n\", grouped['TPR'])\n",
        "\n",
        "# New columns are created to mark when the COMPAS prediction correctly identifies recidivists (TP) and when it misses them (FN).\n",
        "# The DataFrame is grouped by race and sums of TP and FN are computed.\n",
        "# The true positive rate is computed as TPR = TP/TP+FN"
      ],
      "metadata": {
        "colab": {
          "base_uri": "https://localhost:8080/"
        },
        "id": "UHUPgVhztINV",
        "outputId": "3c22010f-7076-4aae-817d-b9d667a02196"
      },
      "execution_count": null,
      "outputs": [
        {
          "output_type": "stream",
          "name": "stdout",
          "text": [
            "True Positive Rate (TPR) by Race:\n",
            " race\n",
            "African-American    0.714717\n",
            "Asian               0.625000\n",
            "Caucasian           0.503045\n",
            "Hispanic            0.420213\n",
            "Native American     1.000000\n",
            "Other               0.341463\n",
            "Name: TPR, dtype: float64\n"
          ]
        }
      ]
    },
    {
      "cell_type": "markdown",
      "source": [
        "####Exercise 5.4:\n",
        "Use Seaborn to create a bar chart that visualizes the True Positive Rate (TPR) for each racial group."
      ],
      "metadata": {
        "id": "EzWcDE8gtbLg"
      }
    },
    {
      "cell_type": "code",
      "source": [
        "# Visualize the True Positive Rate by race using Seaborn\n",
        "sns.set(rc={\"figure.figsize\": (10, 5)})  # Set the figure size\n",
        "sns.barplot(x=grouped.index, y=grouped['TPR'])\n",
        "sns.set_style(\"whitegrid\")  # Optional: Set the plot style for readability"
      ],
      "metadata": {
        "colab": {
          "base_uri": "https://localhost:8080/",
          "height": 473
        },
        "id": "V-rCbQeetsaj",
        "outputId": "ae3eb6fd-7ea2-43d9-eea2-82358bcd8eab"
      },
      "execution_count": null,
      "outputs": [
        {
          "output_type": "display_data",
          "data": {
            "text/plain": [
              "<Figure size 1000x500 with 1 Axes>"
            ],
            "image/png": "[encoded data removed]"
          },
          "metadata": {}
        }
      ]
    },
    {
      "cell_type": "markdown",
      "source": [
        "##Exercise 6: Length of Stay Correlation Analysis\n",
        "Calculate the length of jail stay and analyze its correlation with COMPAS scores. Discuss the potential biases introduced due to correlations between socioeconomic status and length of stay."
      ],
      "metadata": {
        "id": "y0jlKKXTUFMb"
      }
    },
    {
      "cell_type": "markdown",
      "source": [
        "####Exercise 6.1:\n",
        "Convert the jail entry and exit dates into a datetime format.\n",
        "*   Calculate the length of stay by subtracting the entry date from the exit date. Store this in a new column called `'length_of_stay'`."
      ],
      "metadata": {
        "id": "IDtFUXHIQZZo"
      }
    },
    {
      "cell_type": "code",
      "source": [
        "# Hint: use pd.to_datetime() to convert strings into datetime format\n",
        "# so you can perform arithmetic operations like calculating the number of days\n",
        "\n",
        "# .dt.days extracts the length in days, making it easy to analyze.\n",
        "\n",
        "# Convert jail entry and exit dates to datetime format\n",
        "df['c_jail_in'] = pd.to_datetime(df['c_jail_in'])\n",
        "df['c_jail_out'] = pd.to_datetime(df['c_jail_out'])\n",
        "\n",
        "# Calculate length of stay in jail and store it in a new column\n",
        "df['length_of_stay'] = (df['c_jail_out'] - df['c_jail_in']).dt.days\n",
        "print(df[['c_jail_in', 'c_jail_out', 'length_of_stay']].head())  # Verify the result\n"
      ],
      "metadata": {
        "colab": {
          "base_uri": "https://localhost:8080/"
        },
        "id": "_KTsoP7et5-K",
        "outputId": "9f2536f9-3887-4466-f325-a9bdfe983ea6"
      },
      "execution_count": null,
      "outputs": [
        {
          "output_type": "stream",
          "name": "stdout",
          "text": [
            "            c_jail_in          c_jail_out  length_of_stay\n",
            "0 2013-08-13 06:03:00 2013-08-14 05:41:00               0\n",
            "1 2013-01-26 03:45:00 2013-02-05 05:36:00              10\n",
            "2 2013-04-13 04:58:00 2013-04-14 07:02:00               1\n",
            "5 2013-11-30 04:50:00 2013-12-01 12:28:00               1\n",
            "6 2014-02-18 05:08:00 2014-02-24 12:18:00               6\n"
          ]
        }
      ]
    },
    {
      "cell_type": "markdown",
      "source": [
        "####Exercise 6.2:\n",
        "Calculate the correlation between the `'length_of_stay'` column and the `'decile_score'` column.\n",
        "*   Print the result to determine if there is any positive or negative correlation.\n",
        "*   A value close to 1 suggests a strong positive correlation (i.e., as one variable increases, so does the other).\n",
        "*   A value close to -1 suggests a strong negative correlation.\n",
        "*   A value close to 0 suggests no correlation.\n"
      ],
      "metadata": {
        "id": "JSlqLTttuJyB"
      }
    },
    {
      "cell_type": "code",
      "source": [
        "# Calculate correlation between length of stay and COMPAS decile score\n",
        "correlation = df['length_of_stay'].corr(df['decile_score'])\n",
        "print(f'Correlation between Length of Stay and COMPAS Score: {correlation:.2f}')\n",
        "\n",
        "# The .corr() method calculates the Pearson correlation between two numerical columns (here, length of stay and COMPAS decile score).\n",
        "# A correlation close to 1 or -1 indicates a strong relationship, while a value near 0 suggests little to no linear relationship."
      ],
      "metadata": {
        "colab": {
          "base_uri": "https://localhost:8080/"
        },
        "id": "FGetz5rduRyB",
        "outputId": "c4a1e2f8-9005-4fff-e0e8-f6a19b856c56"
      },
      "execution_count": null,
      "outputs": [
        {
          "output_type": "stream",
          "name": "stdout",
          "text": [
            "Correlation between Length of Stay and COMPAS Score: 0.21\n"
          ]
        }
      ]
    },
    {
      "cell_type": "markdown",
      "source": [
        "####Exercise 6.4:\n",
        "Create a scatter plot using Seaborn to visualize the relationship between length of stay and COMPAS score.\n",
        "*   Fit a regression line to observe the potential trend between length of stay and risk score."
      ],
      "metadata": {
        "id": "Y96UC8NluzHy"
      }
    },
    {
      "cell_type": "code",
      "source": [
        "# Import Seaborn (since we are only using Seaborn)\n",
        "import seaborn as sns\n",
        "\n",
        "# Create a scatter plot with regression line to visualize the relationship between length of stay and COMPAS score\n",
        "sns.set(rc={\"figure.figsize\": (10, 5)})  # Set figure size directly in Seaborn\n",
        "sns.set_style(\"whitegrid\")  # Optional: Set the style for a clean, readable plot\n",
        "\n",
        "# Create the plot\n",
        "sns.regplot(x='length_of_stay', y='decile_score', data=df, scatter_kws={'alpha': 0.3}, line_kws={\"color\": \"red\"})\n",
        "\n",
        "# This creates a scatter plot with a fitted regression line, allowing you to see both the raw data points and the overall trend.\n"
      ],
      "metadata": {
        "colab": {
          "base_uri": "https://localhost:8080/",
          "height": 491
        },
        "id": "yFvoT8mAu6vN",
        "outputId": "e2fa6916-7f1a-4d7d-b0dd-fa590f1be83e"
      },
      "execution_count": null,
      "outputs": [
        {
          "output_type": "execute_result",
          "data": {
            "text/plain": [
              "<Axes: xlabel='length_of_stay', ylabel='decile_score'>"
            ]
          },
          "metadata": {},
          "execution_count": 28
        },
        {
          "output_type": "display_data",
          "data": {
            "text/plain": [
              "<Figure size 1000x500 with 1 Axes>"
            ],
            "image/png": "[encoded data removed]"
          },
          "metadata": {}
        }
      ]
    },
    {
      "cell_type": "markdown",
      "source": [
        "#Congrats! You've finished Week 3!\n",
        "## Final Note:\n",
        "Evaluating bias and fairness in predictive models is a crucial step in ensuring that AI and machine learning tools are used ethically and equitably. By systematically understanding and addressing these biases, we can contribute to building more fair and responsible AI systems that benefit all individuals, regardless of their demographic background."
      ],
      "metadata": {
        "id": "yQtpXBLJuSmW"
      }
    }
  ]
}